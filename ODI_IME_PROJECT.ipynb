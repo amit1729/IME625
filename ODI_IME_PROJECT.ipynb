{
  "nbformat": 4,
  "nbformat_minor": 0,
  "metadata": {
    "colab": {
      "name": "ODI_IME_PROJECT.ipynb",
      "provenance": [],
      "collapsed_sections": []
    },
    "kernelspec": {
      "name": "python3",
      "display_name": "Python 3"
    },
    "language_info": {
      "name": "python"
    }
  },
  "cells": [
    {
      "cell_type": "code",
      "source": [
        "import numpy as np\n",
        "import pandas as pd\n",
        "import os"
      ],
      "metadata": {
        "id": "-drgpwZGLMMC"
      },
      "execution_count": null,
      "outputs": []
    },
    {
      "cell_type": "code",
      "source": [
        "dataset = pd.read_csv(\"Data.csv\").drop([\"Margin\", \"Bat\",\"Toss\", \"BR\", \"Ground\"], axis =1)"
      ],
      "metadata": {
        "id": "H4TNaEIgYPWt"
      },
      "execution_count": null,
      "outputs": []
    },
    {
      "cell_type": "code",
      "source": [
        "dataset.columns"
      ],
      "metadata": {
        "id": "lRqYwm0KnU55",
        "colab": {
          "base_uri": "https://localhost:8080/"
        },
        "outputId": "19634bc6-8c5b-40f5-96f3-b609c50bc348"
      },
      "execution_count": null,
      "outputs": [
        {
          "output_type": "execute_result",
          "data": {
            "text/plain": [
              "Index(['Team', 'Result', 'Opposition', 'Start Date'], dtype='object')"
            ]
          },
          "metadata": {},
          "execution_count": 160
        }
      ]
    },
    {
      "cell_type": "code",
      "source": [
        "dataset[\"Team\"].unique()"
      ],
      "metadata": {
        "id": "620x71o2ko_T",
        "colab": {
          "base_uri": "https://localhost:8080/"
        },
        "outputId": "3a2a7c6f-236a-41d0-d0f6-ea6e87166bf8"
      },
      "execution_count": null,
      "outputs": [
        {
          "output_type": "execute_result",
          "data": {
            "text/plain": [
              "array(['West Indies', 'South Africa', 'Australia', 'India', 'Sri Lanka',\n",
              "       'England', 'Afghanistan', 'Pakistan', 'Bangladesh', 'New Zealand'],\n",
              "      dtype=object)"
            ]
          },
          "metadata": {},
          "execution_count": 161
        }
      ]
    },
    {
      "cell_type": "code",
      "source": [
        "dataset[\"Opposition\"].replace({\"v\\xa0South Africa\": \"South Africa\", 'v\\xa0West Indies':\"West Indies\", 'v\\xa0Australia':\"Australia\",\n",
        "       'v\\xa0Sri Lanka':\"Sri Lanka\", 'v\\xa0England':\"England\", 'v\\xa0Pakistan':\"Pakistan\",\n",
        "       'v\\xa0Afghanistan':\"Afghanistan\", 'v\\xa0Bangladesh':\"Bangladesh\", 'v\\xa0New Zealand':\"New Zealand\",\n",
        "       'v\\xa0India':\"India\"}, inplace=True)"
      ],
      "metadata": {
        "id": "81xn-Xkmkep4"
      },
      "execution_count": null,
      "outputs": []
    },
    {
      "cell_type": "code",
      "source": [
        "dataset['Start Date'] = pd.to_datetime(dataset['Start Date'])\n",
        "dataset = dataset[~(dataset['Start Date'] < '2017-04-18')].reset_index(drop = True)"
      ],
      "metadata": {
        "id": "t7nvMNpw3BCT"
      },
      "execution_count": null,
      "outputs": []
    },
    {
      "cell_type": "code",
      "source": [
        "dataset.tail"
      ],
      "metadata": {
        "id": "o3NboEVzYbRM",
        "colab": {
          "base_uri": "https://localhost:8080/"
        },
        "outputId": "f1a01d88-07a3-4cfc-fe65-de3fb85cb814"
      },
      "execution_count": null,
      "outputs": [
        {
          "output_type": "execute_result",
          "data": {
            "text/plain": [
              "<bound method NDFrame.tail of              Team Result    Opposition Start Date\n",
              "0         England    won     v Ireland 2017-05-05\n",
              "1         England    won     v Ireland 2017-05-07\n",
              "2     New Zealand    won     v Ireland 2017-05-14\n",
              "3     New Zealand    won    Bangladesh 2017-05-17\n",
              "4      Bangladesh   lost   New Zealand 2017-05-17\n",
              "..            ...    ...           ...        ...\n",
              "546    Bangladesh    won    v Zimbabwe 2020-03-06\n",
              "547  South Africa    won     Australia 2020-03-07\n",
              "548     Australia   lost  South Africa 2020-03-07\n",
              "549     Australia    won   New Zealand 2020-03-13\n",
              "550   New Zealand   lost     Australia 2020-03-13\n",
              "\n",
              "[551 rows x 4 columns]>"
            ]
          },
          "metadata": {},
          "execution_count": 164
        }
      ]
    },
    {
      "cell_type": "code",
      "source": [
        "grouped_data = dataset.groupby(\"Team\")"
      ],
      "metadata": {
        "id": "ytKJwhHXjvPa"
      },
      "execution_count": null,
      "outputs": []
    },
    {
      "cell_type": "code",
      "source": [
        "grouped_data.get_group(\"India\")"
      ],
      "metadata": {
        "id": "Extuni70mHBR",
        "colab": {
          "base_uri": "https://localhost:8080/",
          "height": 424
        },
        "outputId": "c2d94bfe-d769-4020-c18e-33d2625d2ddf"
      },
      "execution_count": null,
      "outputs": [
        {
          "output_type": "execute_result",
          "data": {
            "text/plain": [
              "      Team Result    Opposition Start Date\n",
              "19   India    won      Pakistan 2017-06-04\n",
              "26   India   lost     Sri Lanka 2017-06-08\n",
              "33   India    won  South Africa 2017-06-11\n",
              "41   India    won    Bangladesh 2017-06-15\n",
              "44   India   lost      Pakistan 2017-06-18\n",
              "..     ...    ...           ...        ...\n",
              "520  India    won     Australia 2020-01-17\n",
              "522  India    won     Australia 2020-01-19\n",
              "527  India   lost   New Zealand 2020-02-05\n",
              "529  India   lost   New Zealand 2020-02-08\n",
              "533  India   lost   New Zealand 2020-02-11\n",
              "\n",
              "[78 rows x 4 columns]"
            ],
            "text/html": [
              "\n",
              "  <div id=\"df-8a0c98d6-fe9b-447b-bdd4-509c83c9e67a\">\n",
              "    <div class=\"colab-df-container\">\n",
              "      <div>\n",
              "<style scoped>\n",
              "    .dataframe tbody tr th:only-of-type {\n",
              "        vertical-align: middle;\n",
              "    }\n",
              "\n",
              "    .dataframe tbody tr th {\n",
              "        vertical-align: top;\n",
              "    }\n",
              "\n",
              "    .dataframe thead th {\n",
              "        text-align: right;\n",
              "    }\n",
              "</style>\n",
              "<table border=\"1\" class=\"dataframe\">\n",
              "  <thead>\n",
              "    <tr style=\"text-align: right;\">\n",
              "      <th></th>\n",
              "      <th>Team</th>\n",
              "      <th>Result</th>\n",
              "      <th>Opposition</th>\n",
              "      <th>Start Date</th>\n",
              "    </tr>\n",
              "  </thead>\n",
              "  <tbody>\n",
              "    <tr>\n",
              "      <th>19</th>\n",
              "      <td>India</td>\n",
              "      <td>won</td>\n",
              "      <td>Pakistan</td>\n",
              "      <td>2017-06-04</td>\n",
              "    </tr>\n",
              "    <tr>\n",
              "      <th>26</th>\n",
              "      <td>India</td>\n",
              "      <td>lost</td>\n",
              "      <td>Sri Lanka</td>\n",
              "      <td>2017-06-08</td>\n",
              "    </tr>\n",
              "    <tr>\n",
              "      <th>33</th>\n",
              "      <td>India</td>\n",
              "      <td>won</td>\n",
              "      <td>South Africa</td>\n",
              "      <td>2017-06-11</td>\n",
              "    </tr>\n",
              "    <tr>\n",
              "      <th>41</th>\n",
              "      <td>India</td>\n",
              "      <td>won</td>\n",
              "      <td>Bangladesh</td>\n",
              "      <td>2017-06-15</td>\n",
              "    </tr>\n",
              "    <tr>\n",
              "      <th>44</th>\n",
              "      <td>India</td>\n",
              "      <td>lost</td>\n",
              "      <td>Pakistan</td>\n",
              "      <td>2017-06-18</td>\n",
              "    </tr>\n",
              "    <tr>\n",
              "      <th>...</th>\n",
              "      <td>...</td>\n",
              "      <td>...</td>\n",
              "      <td>...</td>\n",
              "      <td>...</td>\n",
              "    </tr>\n",
              "    <tr>\n",
              "      <th>520</th>\n",
              "      <td>India</td>\n",
              "      <td>won</td>\n",
              "      <td>Australia</td>\n",
              "      <td>2020-01-17</td>\n",
              "    </tr>\n",
              "    <tr>\n",
              "      <th>522</th>\n",
              "      <td>India</td>\n",
              "      <td>won</td>\n",
              "      <td>Australia</td>\n",
              "      <td>2020-01-19</td>\n",
              "    </tr>\n",
              "    <tr>\n",
              "      <th>527</th>\n",
              "      <td>India</td>\n",
              "      <td>lost</td>\n",
              "      <td>New Zealand</td>\n",
              "      <td>2020-02-05</td>\n",
              "    </tr>\n",
              "    <tr>\n",
              "      <th>529</th>\n",
              "      <td>India</td>\n",
              "      <td>lost</td>\n",
              "      <td>New Zealand</td>\n",
              "      <td>2020-02-08</td>\n",
              "    </tr>\n",
              "    <tr>\n",
              "      <th>533</th>\n",
              "      <td>India</td>\n",
              "      <td>lost</td>\n",
              "      <td>New Zealand</td>\n",
              "      <td>2020-02-11</td>\n",
              "    </tr>\n",
              "  </tbody>\n",
              "</table>\n",
              "<p>78 rows × 4 columns</p>\n",
              "</div>\n",
              "      <button class=\"colab-df-convert\" onclick=\"convertToInteractive('df-8a0c98d6-fe9b-447b-bdd4-509c83c9e67a')\"\n",
              "              title=\"Convert this dataframe to an interactive table.\"\n",
              "              style=\"display:none;\">\n",
              "        \n",
              "  <svg xmlns=\"http://www.w3.org/2000/svg\" height=\"24px\"viewBox=\"0 0 24 24\"\n",
              "       width=\"24px\">\n",
              "    <path d=\"M0 0h24v24H0V0z\" fill=\"none\"/>\n",
              "    <path d=\"M18.56 5.44l.94 2.06.94-2.06 2.06-.94-2.06-.94-.94-2.06-.94 2.06-2.06.94zm-11 1L8.5 8.5l.94-2.06 2.06-.94-2.06-.94L8.5 2.5l-.94 2.06-2.06.94zm10 10l.94 2.06.94-2.06 2.06-.94-2.06-.94-.94-2.06-.94 2.06-2.06.94z\"/><path d=\"M17.41 7.96l-1.37-1.37c-.4-.4-.92-.59-1.43-.59-.52 0-1.04.2-1.43.59L10.3 9.45l-7.72 7.72c-.78.78-.78 2.05 0 2.83L4 21.41c.39.39.9.59 1.41.59.51 0 1.02-.2 1.41-.59l7.78-7.78 2.81-2.81c.8-.78.8-2.07 0-2.86zM5.41 20L4 18.59l7.72-7.72 1.47 1.35L5.41 20z\"/>\n",
              "  </svg>\n",
              "      </button>\n",
              "      \n",
              "  <style>\n",
              "    .colab-df-container {\n",
              "      display:flex;\n",
              "      flex-wrap:wrap;\n",
              "      gap: 12px;\n",
              "    }\n",
              "\n",
              "    .colab-df-convert {\n",
              "      background-color: #E8F0FE;\n",
              "      border: none;\n",
              "      border-radius: 50%;\n",
              "      cursor: pointer;\n",
              "      display: none;\n",
              "      fill: #1967D2;\n",
              "      height: 32px;\n",
              "      padding: 0 0 0 0;\n",
              "      width: 32px;\n",
              "    }\n",
              "\n",
              "    .colab-df-convert:hover {\n",
              "      background-color: #E2EBFA;\n",
              "      box-shadow: 0px 1px 2px rgba(60, 64, 67, 0.3), 0px 1px 3px 1px rgba(60, 64, 67, 0.15);\n",
              "      fill: #174EA6;\n",
              "    }\n",
              "\n",
              "    [theme=dark] .colab-df-convert {\n",
              "      background-color: #3B4455;\n",
              "      fill: #D2E3FC;\n",
              "    }\n",
              "\n",
              "    [theme=dark] .colab-df-convert:hover {\n",
              "      background-color: #434B5C;\n",
              "      box-shadow: 0px 1px 3px 1px rgba(0, 0, 0, 0.15);\n",
              "      filter: drop-shadow(0px 1px 2px rgba(0, 0, 0, 0.3));\n",
              "      fill: #FFFFFF;\n",
              "    }\n",
              "  </style>\n",
              "\n",
              "      <script>\n",
              "        const buttonEl =\n",
              "          document.querySelector('#df-8a0c98d6-fe9b-447b-bdd4-509c83c9e67a button.colab-df-convert');\n",
              "        buttonEl.style.display =\n",
              "          google.colab.kernel.accessAllowed ? 'block' : 'none';\n",
              "\n",
              "        async function convertToInteractive(key) {\n",
              "          const element = document.querySelector('#df-8a0c98d6-fe9b-447b-bdd4-509c83c9e67a');\n",
              "          const dataTable =\n",
              "            await google.colab.kernel.invokeFunction('convertToInteractive',\n",
              "                                                     [key], {});\n",
              "          if (!dataTable) return;\n",
              "\n",
              "          const docLinkHtml = 'Like what you see? Visit the ' +\n",
              "            '<a target=\"_blank\" href=https://colab.research.google.com/notebooks/data_table.ipynb>data table notebook</a>'\n",
              "            + ' to learn more about interactive tables.';\n",
              "          element.innerHTML = '';\n",
              "          dataTable['output_type'] = 'display_data';\n",
              "          await google.colab.output.renderOutput(dataTable, element);\n",
              "          const docLink = document.createElement('div');\n",
              "          docLink.innerHTML = docLinkHtml;\n",
              "          element.appendChild(docLink);\n",
              "        }\n",
              "      </script>\n",
              "    </div>\n",
              "  </div>\n",
              "  "
            ]
          },
          "metadata": {},
          "execution_count": 166
        }
      ]
    },
    {
      "cell_type": "code",
      "source": [
        "Teams = ['West Indies', 'South Africa', 'Australia', 'England', 'Sri Lanka',\n",
        "       'Pakistan', 'Bangladesh', 'Afghanistan', 'India', 'New Zealand']\n",
        "sequences = {}\n",
        "for team in Teams:\n",
        "    data = grouped_data.get_group(team)\n",
        "    idxs = data.index\n",
        "    s = \"\"\n",
        "    for i in idxs:\n",
        "        if(data.Result[i]==\"won\"):\n",
        "            s+=\"W\"\n",
        "        else:\n",
        "            s+=\"N\"\n",
        "    sequences[team] = s\n"
      ],
      "metadata": {
        "id": "gQcIZGZHmuzs"
      },
      "execution_count": null,
      "outputs": []
    },
    {
      "cell_type": "code",
      "source": [
        "sequences"
      ],
      "metadata": {
        "id": "lpfaOosQobh1",
        "colab": {
          "base_uri": "https://localhost:8080/"
        },
        "outputId": "416760ab-7717-41cc-8b1a-bd5037c23ffe"
      },
      "execution_count": null,
      "outputs": [
        {
          "output_type": "execute_result",
          "data": {
            "text/plain": [
              "{'Afghanistan': 'WNWNNWNWWWNNNWWWWWNWWWNNNWNWNWNWNNNNNNNNNNNN',\n",
              " 'Australia': 'NNNNWNNNNWNNNNNNNWNWNNNNWWWWWWWWWWNWWWWWNNWNNNNNW',\n",
              " 'Bangladesh': 'NWWNWNNNNWWWNNWNWWNNWWNWWWWNWNNNWWWWWNNWNWNNNNNWWW',\n",
              " 'England': 'WWWWNWWWNWWWWWWWNWNWWNWNWWWWWNWWWWWNWNWNWWWWWWNWWWNNWWWNNW',\n",
              " 'India': 'WNWWNWWNWWWWWWWWWNWNWWNWWWWWNWWWNNWWWWNWWNNWWNWWWWWNWWWNNNWWWWWNWWNWWNWWNWWNNN',\n",
              " 'New Zealand': 'WWWNNNWNNWWWWWWWWWNNWNWNWWWNNNWNWWWWWWWWNNNWNWWWN',\n",
              " 'Pakistan': 'NWWWWWWWWWNNNNNWWWWWWNWNNNWWNNWNNNNNNNNNNNWNNWWWWWW',\n",
              " 'South Africa': 'NNWWNNWWWNNNWNNWWWNNWWWWNWNWWNWWWWWWNNNWNNWWWNWWW',\n",
              " 'Sri Lanka': 'NWNNWWNNNNNNNNNNNNWNNNNWWWNNNWWNNNNNWNNNNNNNNWNWNWNWNWWWNNWWW',\n",
              " 'West Indies': 'NWNNWNNNNNNNNWWWNWWNNWNNNWNNNWNNWNWWNWNNWNNNNNNWNNWWWWNNWWWNNN'}"
            ]
          },
          "metadata": {},
          "execution_count": 168
        }
      ]
    },
    {
      "cell_type": "code",
      "source": [
        "def extract_state_changes(s):\n",
        "    dic = {\n",
        "        \"WW\": 0,\n",
        "        \"WN\": 0,\n",
        "        \"NW\": 0,\n",
        "        \"NN\": 0,\n",
        "    }\n",
        "    n = len(s)\n",
        "    for i in range(1,n,1):\n",
        "        if(s[i-1]==\"W\" and s[i]==\"W\"):\n",
        "            dic[\"WW\"]+=1\n",
        "        elif(s[i-1]==\"W\" and s[i]==\"N\"):\n",
        "            dic[\"WN\"]+=1\n",
        "        elif(s[i-1]==\"N\" and s[i]==\"W\"):\n",
        "            dic[\"NW\"]+=1\n",
        "        elif(s[i-1]==\"N\" and s[i]==\"N\"):\n",
        "            dic[\"NN\"]+=1\n",
        "        else:\n",
        "            print(\"Something unexpected happened at index: \", i)\n",
        "    return dic\n"
      ],
      "metadata": {
        "id": "Bpy6cqSTYlQi"
      },
      "execution_count": null,
      "outputs": []
    },
    {
      "cell_type": "code",
      "source": [
        ""
      ],
      "metadata": {
        "id": "nhLpFG57sDAa"
      },
      "execution_count": null,
      "outputs": []
    },
    {
      "cell_type": "code",
      "source": [
        "state = {}\n",
        "for team in Teams:\n",
        "    state[team] = extract_state_changes(sequences[team])"
      ],
      "metadata": {
        "id": "nF8AvfSUqGkk"
      },
      "execution_count": null,
      "outputs": []
    },
    {
      "cell_type": "code",
      "source": [
        "state"
      ],
      "metadata": {
        "id": "KHaXZ-GEqUnS",
        "colab": {
          "base_uri": "https://localhost:8080/"
        },
        "outputId": "481ae5ca-634a-4399-a8ac-004d220095ae"
      },
      "execution_count": null,
      "outputs": [
        {
          "output_type": "execute_result",
          "data": {
            "text/plain": [
              "{'Afghanistan': {'NN': 16, 'NW': 9, 'WN': 10, 'WW': 8},\n",
              " 'Australia': {'NN': 20, 'NW': 8, 'WN': 7, 'WW': 13},\n",
              " 'Bangladesh': {'NN': 12, 'NW': 12, 'WN': 11, 'WW': 14},\n",
              " 'England': {'NN': 2, 'NW': 13, 'WN': 13, 'WW': 29},\n",
              " 'India': {'NN': 6, 'NW': 17, 'WN': 18, 'WW': 36},\n",
              " 'New Zealand': {'NN': 8, 'NW': 9, 'WN': 10, 'WW': 21},\n",
              " 'Pakistan': {'NN': 18, 'NW': 7, 'WN': 6, 'WW': 19},\n",
              " 'South Africa': {'NN': 9, 'NW': 11, 'WN': 10, 'WW': 18},\n",
              " 'Sri Lanka': {'NN': 29, 'NW': 12, 'WN': 11, 'WW': 8},\n",
              " 'West Indies': {'NN': 24, 'NW': 14, 'WN': 14, 'WW': 9}}"
            ]
          },
          "metadata": {},
          "execution_count": 171
        }
      ]
    },
    {
      "cell_type": "code",
      "source": [
        "def extract_state_changes1(s):\n",
        "    dic = {\n",
        "        \"WW\": 0,\n",
        "        \"WN\": 0,\n",
        "        \"NW\": 0,\n",
        "        \"NN\": 0,\n",
        "    }\n",
        "    n = len(s)\n",
        "    for i in range(1,n,1):\n",
        "        if(s[i-1]==\"W\" and s[i]==\"W\"):\n",
        "            dic[\"WW\"]+=1\n",
        "        elif(s[i-1]==\"W\" and s[i]==\"N\"):\n",
        "            dic[\"WN\"]+=1\n",
        "        elif(s[i-1]==\"N\" and s[i]==\"W\"):\n",
        "            dic[\"NW\"]+=1\n",
        "        elif(s[i-1]==\"N\" and s[i]==\"N\"):\n",
        "            dic[\"NN\"]+=1\n",
        "        else:\n",
        "            print(\"Something unexpected happened at index: \", i)\n",
        "    arr = np.array([[dic[\"WW\"],dic[\"WN\"]],[dic[\"NW\"],dic[\"NN\"]]])\n",
        "    return arr\n"
      ],
      "metadata": {
        "id": "-3ohsXb6rHWy"
      },
      "execution_count": null,
      "outputs": []
    },
    {
      "cell_type": "code",
      "source": [
        "transition_mat = {}\n",
        "for team in Teams:\n",
        "    transition_mat[team] = extract_state_changes1(sequences[team])"
      ],
      "metadata": {
        "id": "sdLQcme8sPtM"
      },
      "execution_count": null,
      "outputs": []
    },
    {
      "cell_type": "code",
      "source": [
        "transition_mat[\"India\"]"
      ],
      "metadata": {
        "id": "0F82HXissXuv",
        "colab": {
          "base_uri": "https://localhost:8080/"
        },
        "outputId": "68d6c1d3-d873-4852-a91a-1d6a76e60931"
      },
      "execution_count": null,
      "outputs": [
        {
          "output_type": "execute_result",
          "data": {
            "text/plain": [
              "array([[36, 18],\n",
              "       [17,  6]])"
            ]
          },
          "metadata": {},
          "execution_count": 174
        }
      ]
    },
    {
      "cell_type": "code",
      "source": [
        "def extract_state_changes2(s):\n",
        "    dic = {\n",
        "        \"WW\": 0,\n",
        "        \"WN\": 0,\n",
        "        \"NW\": 0,\n",
        "        \"NN\": 0,\n",
        "    }\n",
        "    n = len(s)\n",
        "    for i in range(1,n,1):\n",
        "        if(s[i-1]==\"W\" and s[i]==\"W\"):\n",
        "            dic[\"WW\"]+=1\n",
        "        elif(s[i-1]==\"W\" and s[i]==\"N\"):\n",
        "            dic[\"WN\"]+=1\n",
        "        elif(s[i-1]==\"N\" and s[i]==\"W\"):\n",
        "            dic[\"NW\"]+=1\n",
        "        elif(s[i-1]==\"N\" and s[i]==\"N\"):\n",
        "            dic[\"NN\"]+=1\n",
        "        else:\n",
        "            print(\"Something unexpected happened at index: \", i)\n",
        "    a = 0\n",
        "    b = 0\n",
        "    c = 0\n",
        "    d = 0\n",
        "    if((dic[\"WW\"]+dic[\"WN\"])!=0):\n",
        "        a = dic[\"WW\"]/(dic[\"WW\"]+dic[\"WN\"])\n",
        "        b = dic[\"WN\"]/(dic[\"WW\"]+dic[\"WN\"])\n",
        "    if((dic[\"NW\"]+dic[\"NN\"])!=0):\n",
        "        c = dic[\"NW\"]/(dic[\"NW\"]+dic[\"NN\"])\n",
        "        d = dic[\"NN\"]/(dic[\"NW\"]+dic[\"NN\"])\n",
        "    arr = np.array([[a,b],[c,d]])\n",
        "    return arr\n"
      ],
      "metadata": {
        "id": "kn-mfXj9sZNm"
      },
      "execution_count": null,
      "outputs": []
    },
    {
      "cell_type": "code",
      "source": [
        "transition_mat_f = {}\n",
        "for team in Teams:\n",
        "    transition_mat_f[team] = extract_state_changes2(sequences[team])"
      ],
      "metadata": {
        "id": "5sYc5jv-tb8W"
      },
      "execution_count": null,
      "outputs": []
    },
    {
      "cell_type": "code",
      "source": [
        "x = transition_mat_f[\"Afghanistan\"]"
      ],
      "metadata": {
        "id": "1DPN_NRQthla"
      },
      "execution_count": null,
      "outputs": []
    },
    {
      "cell_type": "code",
      "source": [
        "x"
      ],
      "metadata": {
        "id": "IoQMIZIZvWE4",
        "colab": {
          "base_uri": "https://localhost:8080/"
        },
        "outputId": "01965912-c22a-4ee4-bbc0-217b50ab936f"
      },
      "execution_count": null,
      "outputs": [
        {
          "output_type": "execute_result",
          "data": {
            "text/plain": [
              "array([[0.44444444, 0.55555556],\n",
              "       [0.36      , 0.64      ]])"
            ]
          },
          "metadata": {},
          "execution_count": 178
        }
      ]
    },
    {
      "cell_type": "code",
      "source": [
        "alpha_w = x[1][0]/(1+x[1][0]-x[0][0])\n",
        "alpha_n = (1-x[0][0])/(1+x[1][0]-x[0][0])\n",
        "print(alpha_w)\n",
        "print(alpha_n)\n",
        "print(alpha_w+alpha_n)"
      ],
      "metadata": {
        "id": "kfROSSNutlGc",
        "colab": {
          "base_uri": "https://localhost:8080/"
        },
        "outputId": "5af094ca-15d2-4bbc-bf6d-fa60574ac502"
      },
      "execution_count": null,
      "outputs": [
        {
          "output_type": "stream",
          "name": "stdout",
          "text": [
            "0.3932038834951457\n",
            "0.6067961165048544\n",
            "1.0\n"
          ]
        }
      ]
    },
    {
      "cell_type": "code",
      "source": [
        "t = []\n",
        "Wining_Prob = []\n",
        "Loosing_Prob = []\n",
        "WW = []\n",
        "WN = []\n",
        "NW = []\n",
        "NN = []\n",
        "for team in Teams:\n",
        "    x = transition_mat_f[team]\n",
        "    t.append(team)\n",
        "    Wining_Prob.append(x[1][0]/(1+x[1][0]-x[0][0]))\n",
        "    Loosing_Prob.append((1-x[0][0])/(1+x[1][0]-x[0][0]))\n",
        "    WW.append(x[0][0])\n",
        "    WN.append(x[0][1])\n",
        "    NW.append(x[1][0])\n",
        "    NN.append(x[1][1])\n",
        "final_result = pd.DataFrame({\n",
        "    \"Team\": t,\n",
        "    \"WW\": WW,\n",
        "    \"WN\": WN,\n",
        "    \"NW\": NW,\n",
        "    \"NN\": NN,\n",
        "    \"Wining Probablity\": Wining_Prob,\n",
        "    \"Loosing Probablity\": Loosing_Prob,\n",
        "}).sort_values(\"Wining Probablity\", ascending=False).reset_index(drop = True)\n"
      ],
      "metadata": {
        "id": "KhvRBhwivzhn"
      },
      "execution_count": null,
      "outputs": []
    },
    {
      "cell_type": "code",
      "source": [
        "final_result"
      ],
      "metadata": {
        "id": "AdBLfJc91w64",
        "colab": {
          "base_uri": "https://localhost:8080/",
          "height": 363
        },
        "outputId": "4d31c96c-aa03-4569-83cc-00328e62c67a"
      },
      "execution_count": null,
      "outputs": [
        {
          "output_type": "execute_result",
          "data": {
            "text/plain": [
              "           Team        WW        WN        NW        NN  Wining Probablity  \\\n",
              "0       England  0.690476  0.309524  0.866667  0.133333           0.736842   \n",
              "1         India  0.666667  0.333333  0.739130  0.260870           0.689189   \n",
              "2   New Zealand  0.677419  0.322581  0.529412  0.470588           0.621381   \n",
              "3  South Africa  0.642857  0.357143  0.550000  0.450000           0.606299   \n",
              "4      Pakistan  0.760000  0.240000  0.280000  0.720000           0.538462   \n",
              "5    Bangladesh  0.560000  0.440000  0.500000  0.500000           0.531915   \n",
              "6     Australia  0.650000  0.350000  0.285714  0.714286           0.449438   \n",
              "7   Afghanistan  0.444444  0.555556  0.360000  0.640000           0.393204   \n",
              "8   West Indies  0.391304  0.608696  0.368421  0.631579           0.377049   \n",
              "9     Sri Lanka  0.421053  0.578947  0.292683  0.707317           0.335788   \n",
              "\n",
              "   Loosing Probablity  \n",
              "0            0.263158  \n",
              "1            0.310811  \n",
              "2            0.378619  \n",
              "3            0.393701  \n",
              "4            0.461538  \n",
              "5            0.468085  \n",
              "6            0.550562  \n",
              "7            0.606796  \n",
              "8            0.622951  \n",
              "9            0.664212  "
            ],
            "text/html": [
              "\n",
              "  <div id=\"df-11bdd8fa-c247-4a96-98fd-28656cb5d340\">\n",
              "    <div class=\"colab-df-container\">\n",
              "      <div>\n",
              "<style scoped>\n",
              "    .dataframe tbody tr th:only-of-type {\n",
              "        vertical-align: middle;\n",
              "    }\n",
              "\n",
              "    .dataframe tbody tr th {\n",
              "        vertical-align: top;\n",
              "    }\n",
              "\n",
              "    .dataframe thead th {\n",
              "        text-align: right;\n",
              "    }\n",
              "</style>\n",
              "<table border=\"1\" class=\"dataframe\">\n",
              "  <thead>\n",
              "    <tr style=\"text-align: right;\">\n",
              "      <th></th>\n",
              "      <th>Team</th>\n",
              "      <th>WW</th>\n",
              "      <th>WN</th>\n",
              "      <th>NW</th>\n",
              "      <th>NN</th>\n",
              "      <th>Wining Probablity</th>\n",
              "      <th>Loosing Probablity</th>\n",
              "    </tr>\n",
              "  </thead>\n",
              "  <tbody>\n",
              "    <tr>\n",
              "      <th>0</th>\n",
              "      <td>England</td>\n",
              "      <td>0.690476</td>\n",
              "      <td>0.309524</td>\n",
              "      <td>0.866667</td>\n",
              "      <td>0.133333</td>\n",
              "      <td>0.736842</td>\n",
              "      <td>0.263158</td>\n",
              "    </tr>\n",
              "    <tr>\n",
              "      <th>1</th>\n",
              "      <td>India</td>\n",
              "      <td>0.666667</td>\n",
              "      <td>0.333333</td>\n",
              "      <td>0.739130</td>\n",
              "      <td>0.260870</td>\n",
              "      <td>0.689189</td>\n",
              "      <td>0.310811</td>\n",
              "    </tr>\n",
              "    <tr>\n",
              "      <th>2</th>\n",
              "      <td>New Zealand</td>\n",
              "      <td>0.677419</td>\n",
              "      <td>0.322581</td>\n",
              "      <td>0.529412</td>\n",
              "      <td>0.470588</td>\n",
              "      <td>0.621381</td>\n",
              "      <td>0.378619</td>\n",
              "    </tr>\n",
              "    <tr>\n",
              "      <th>3</th>\n",
              "      <td>South Africa</td>\n",
              "      <td>0.642857</td>\n",
              "      <td>0.357143</td>\n",
              "      <td>0.550000</td>\n",
              "      <td>0.450000</td>\n",
              "      <td>0.606299</td>\n",
              "      <td>0.393701</td>\n",
              "    </tr>\n",
              "    <tr>\n",
              "      <th>4</th>\n",
              "      <td>Pakistan</td>\n",
              "      <td>0.760000</td>\n",
              "      <td>0.240000</td>\n",
              "      <td>0.280000</td>\n",
              "      <td>0.720000</td>\n",
              "      <td>0.538462</td>\n",
              "      <td>0.461538</td>\n",
              "    </tr>\n",
              "    <tr>\n",
              "      <th>5</th>\n",
              "      <td>Bangladesh</td>\n",
              "      <td>0.560000</td>\n",
              "      <td>0.440000</td>\n",
              "      <td>0.500000</td>\n",
              "      <td>0.500000</td>\n",
              "      <td>0.531915</td>\n",
              "      <td>0.468085</td>\n",
              "    </tr>\n",
              "    <tr>\n",
              "      <th>6</th>\n",
              "      <td>Australia</td>\n",
              "      <td>0.650000</td>\n",
              "      <td>0.350000</td>\n",
              "      <td>0.285714</td>\n",
              "      <td>0.714286</td>\n",
              "      <td>0.449438</td>\n",
              "      <td>0.550562</td>\n",
              "    </tr>\n",
              "    <tr>\n",
              "      <th>7</th>\n",
              "      <td>Afghanistan</td>\n",
              "      <td>0.444444</td>\n",
              "      <td>0.555556</td>\n",
              "      <td>0.360000</td>\n",
              "      <td>0.640000</td>\n",
              "      <td>0.393204</td>\n",
              "      <td>0.606796</td>\n",
              "    </tr>\n",
              "    <tr>\n",
              "      <th>8</th>\n",
              "      <td>West Indies</td>\n",
              "      <td>0.391304</td>\n",
              "      <td>0.608696</td>\n",
              "      <td>0.368421</td>\n",
              "      <td>0.631579</td>\n",
              "      <td>0.377049</td>\n",
              "      <td>0.622951</td>\n",
              "    </tr>\n",
              "    <tr>\n",
              "      <th>9</th>\n",
              "      <td>Sri Lanka</td>\n",
              "      <td>0.421053</td>\n",
              "      <td>0.578947</td>\n",
              "      <td>0.292683</td>\n",
              "      <td>0.707317</td>\n",
              "      <td>0.335788</td>\n",
              "      <td>0.664212</td>\n",
              "    </tr>\n",
              "  </tbody>\n",
              "</table>\n",
              "</div>\n",
              "      <button class=\"colab-df-convert\" onclick=\"convertToInteractive('df-11bdd8fa-c247-4a96-98fd-28656cb5d340')\"\n",
              "              title=\"Convert this dataframe to an interactive table.\"\n",
              "              style=\"display:none;\">\n",
              "        \n",
              "  <svg xmlns=\"http://www.w3.org/2000/svg\" height=\"24px\"viewBox=\"0 0 24 24\"\n",
              "       width=\"24px\">\n",
              "    <path d=\"M0 0h24v24H0V0z\" fill=\"none\"/>\n",
              "    <path d=\"M18.56 5.44l.94 2.06.94-2.06 2.06-.94-2.06-.94-.94-2.06-.94 2.06-2.06.94zm-11 1L8.5 8.5l.94-2.06 2.06-.94-2.06-.94L8.5 2.5l-.94 2.06-2.06.94zm10 10l.94 2.06.94-2.06 2.06-.94-2.06-.94-.94-2.06-.94 2.06-2.06.94z\"/><path d=\"M17.41 7.96l-1.37-1.37c-.4-.4-.92-.59-1.43-.59-.52 0-1.04.2-1.43.59L10.3 9.45l-7.72 7.72c-.78.78-.78 2.05 0 2.83L4 21.41c.39.39.9.59 1.41.59.51 0 1.02-.2 1.41-.59l7.78-7.78 2.81-2.81c.8-.78.8-2.07 0-2.86zM5.41 20L4 18.59l7.72-7.72 1.47 1.35L5.41 20z\"/>\n",
              "  </svg>\n",
              "      </button>\n",
              "      \n",
              "  <style>\n",
              "    .colab-df-container {\n",
              "      display:flex;\n",
              "      flex-wrap:wrap;\n",
              "      gap: 12px;\n",
              "    }\n",
              "\n",
              "    .colab-df-convert {\n",
              "      background-color: #E8F0FE;\n",
              "      border: none;\n",
              "      border-radius: 50%;\n",
              "      cursor: pointer;\n",
              "      display: none;\n",
              "      fill: #1967D2;\n",
              "      height: 32px;\n",
              "      padding: 0 0 0 0;\n",
              "      width: 32px;\n",
              "    }\n",
              "\n",
              "    .colab-df-convert:hover {\n",
              "      background-color: #E2EBFA;\n",
              "      box-shadow: 0px 1px 2px rgba(60, 64, 67, 0.3), 0px 1px 3px 1px rgba(60, 64, 67, 0.15);\n",
              "      fill: #174EA6;\n",
              "    }\n",
              "\n",
              "    [theme=dark] .colab-df-convert {\n",
              "      background-color: #3B4455;\n",
              "      fill: #D2E3FC;\n",
              "    }\n",
              "\n",
              "    [theme=dark] .colab-df-convert:hover {\n",
              "      background-color: #434B5C;\n",
              "      box-shadow: 0px 1px 3px 1px rgba(0, 0, 0, 0.15);\n",
              "      filter: drop-shadow(0px 1px 2px rgba(0, 0, 0, 0.3));\n",
              "      fill: #FFFFFF;\n",
              "    }\n",
              "  </style>\n",
              "\n",
              "      <script>\n",
              "        const buttonEl =\n",
              "          document.querySelector('#df-11bdd8fa-c247-4a96-98fd-28656cb5d340 button.colab-df-convert');\n",
              "        buttonEl.style.display =\n",
              "          google.colab.kernel.accessAllowed ? 'block' : 'none';\n",
              "\n",
              "        async function convertToInteractive(key) {\n",
              "          const element = document.querySelector('#df-11bdd8fa-c247-4a96-98fd-28656cb5d340');\n",
              "          const dataTable =\n",
              "            await google.colab.kernel.invokeFunction('convertToInteractive',\n",
              "                                                     [key], {});\n",
              "          if (!dataTable) return;\n",
              "\n",
              "          const docLinkHtml = 'Like what you see? Visit the ' +\n",
              "            '<a target=\"_blank\" href=https://colab.research.google.com/notebooks/data_table.ipynb>data table notebook</a>'\n",
              "            + ' to learn more about interactive tables.';\n",
              "          element.innerHTML = '';\n",
              "          dataTable['output_type'] = 'display_data';\n",
              "          await google.colab.output.renderOutput(dataTable, element);\n",
              "          const docLink = document.createElement('div');\n",
              "          docLink.innerHTML = docLinkHtml;\n",
              "          element.appendChild(docLink);\n",
              "        }\n",
              "      </script>\n",
              "    </div>\n",
              "  </div>\n",
              "  "
            ]
          },
          "metadata": {},
          "execution_count": 181
        }
      ]
    },
    {
      "cell_type": "markdown",
      "source": [
        "Head-On Analysis"
      ],
      "metadata": {
        "id": "RAOfYYFRoOiQ"
      }
    },
    {
      "cell_type": "code",
      "source": [
        "grouped_data_2 = dataset.groupby([\"Team\",\"Opposition\"])"
      ],
      "metadata": {
        "id": "ekTebgPs1ywz"
      },
      "execution_count": null,
      "outputs": []
    },
    {
      "cell_type": "code",
      "source": [
        "base_team = \"India\"          #Change base_team to get head on results for different teams\n",
        "# data = grouped_data_2.get_group((base_team, \"England\"))"
      ],
      "metadata": {
        "id": "FAS7kmtDovzy"
      },
      "execution_count": null,
      "outputs": []
    },
    {
      "cell_type": "code",
      "source": [
        "data"
      ],
      "metadata": {
        "id": "hhNVy3ehpCGy",
        "colab": {
          "base_uri": "https://localhost:8080/",
          "height": 112
        },
        "outputId": "2cea0eb8-1b27-4ae0-ab51-7cd2fad1e69f"
      },
      "execution_count": null,
      "outputs": [
        {
          "output_type": "execute_result",
          "data": {
            "text/plain": [
              "          Team Result   Opposition Start Date\n",
              "465  Australia    won  New Zealand 2019-06-29\n",
              "549  Australia    won  New Zealand 2020-03-13"
            ],
            "text/html": [
              "\n",
              "  <div id=\"df-392b09d0-24d1-4351-b957-63154563d44b\">\n",
              "    <div class=\"colab-df-container\">\n",
              "      <div>\n",
              "<style scoped>\n",
              "    .dataframe tbody tr th:only-of-type {\n",
              "        vertical-align: middle;\n",
              "    }\n",
              "\n",
              "    .dataframe tbody tr th {\n",
              "        vertical-align: top;\n",
              "    }\n",
              "\n",
              "    .dataframe thead th {\n",
              "        text-align: right;\n",
              "    }\n",
              "</style>\n",
              "<table border=\"1\" class=\"dataframe\">\n",
              "  <thead>\n",
              "    <tr style=\"text-align: right;\">\n",
              "      <th></th>\n",
              "      <th>Team</th>\n",
              "      <th>Result</th>\n",
              "      <th>Opposition</th>\n",
              "      <th>Start Date</th>\n",
              "    </tr>\n",
              "  </thead>\n",
              "  <tbody>\n",
              "    <tr>\n",
              "      <th>465</th>\n",
              "      <td>Australia</td>\n",
              "      <td>won</td>\n",
              "      <td>New Zealand</td>\n",
              "      <td>2019-06-29</td>\n",
              "    </tr>\n",
              "    <tr>\n",
              "      <th>549</th>\n",
              "      <td>Australia</td>\n",
              "      <td>won</td>\n",
              "      <td>New Zealand</td>\n",
              "      <td>2020-03-13</td>\n",
              "    </tr>\n",
              "  </tbody>\n",
              "</table>\n",
              "</div>\n",
              "      <button class=\"colab-df-convert\" onclick=\"convertToInteractive('df-392b09d0-24d1-4351-b957-63154563d44b')\"\n",
              "              title=\"Convert this dataframe to an interactive table.\"\n",
              "              style=\"display:none;\">\n",
              "        \n",
              "  <svg xmlns=\"http://www.w3.org/2000/svg\" height=\"24px\"viewBox=\"0 0 24 24\"\n",
              "       width=\"24px\">\n",
              "    <path d=\"M0 0h24v24H0V0z\" fill=\"none\"/>\n",
              "    <path d=\"M18.56 5.44l.94 2.06.94-2.06 2.06-.94-2.06-.94-.94-2.06-.94 2.06-2.06.94zm-11 1L8.5 8.5l.94-2.06 2.06-.94-2.06-.94L8.5 2.5l-.94 2.06-2.06.94zm10 10l.94 2.06.94-2.06 2.06-.94-2.06-.94-.94-2.06-.94 2.06-2.06.94z\"/><path d=\"M17.41 7.96l-1.37-1.37c-.4-.4-.92-.59-1.43-.59-.52 0-1.04.2-1.43.59L10.3 9.45l-7.72 7.72c-.78.78-.78 2.05 0 2.83L4 21.41c.39.39.9.59 1.41.59.51 0 1.02-.2 1.41-.59l7.78-7.78 2.81-2.81c.8-.78.8-2.07 0-2.86zM5.41 20L4 18.59l7.72-7.72 1.47 1.35L5.41 20z\"/>\n",
              "  </svg>\n",
              "      </button>\n",
              "      \n",
              "  <style>\n",
              "    .colab-df-container {\n",
              "      display:flex;\n",
              "      flex-wrap:wrap;\n",
              "      gap: 12px;\n",
              "    }\n",
              "\n",
              "    .colab-df-convert {\n",
              "      background-color: #E8F0FE;\n",
              "      border: none;\n",
              "      border-radius: 50%;\n",
              "      cursor: pointer;\n",
              "      display: none;\n",
              "      fill: #1967D2;\n",
              "      height: 32px;\n",
              "      padding: 0 0 0 0;\n",
              "      width: 32px;\n",
              "    }\n",
              "\n",
              "    .colab-df-convert:hover {\n",
              "      background-color: #E2EBFA;\n",
              "      box-shadow: 0px 1px 2px rgba(60, 64, 67, 0.3), 0px 1px 3px 1px rgba(60, 64, 67, 0.15);\n",
              "      fill: #174EA6;\n",
              "    }\n",
              "\n",
              "    [theme=dark] .colab-df-convert {\n",
              "      background-color: #3B4455;\n",
              "      fill: #D2E3FC;\n",
              "    }\n",
              "\n",
              "    [theme=dark] .colab-df-convert:hover {\n",
              "      background-color: #434B5C;\n",
              "      box-shadow: 0px 1px 3px 1px rgba(0, 0, 0, 0.15);\n",
              "      filter: drop-shadow(0px 1px 2px rgba(0, 0, 0, 0.3));\n",
              "      fill: #FFFFFF;\n",
              "    }\n",
              "  </style>\n",
              "\n",
              "      <script>\n",
              "        const buttonEl =\n",
              "          document.querySelector('#df-392b09d0-24d1-4351-b957-63154563d44b button.colab-df-convert');\n",
              "        buttonEl.style.display =\n",
              "          google.colab.kernel.accessAllowed ? 'block' : 'none';\n",
              "\n",
              "        async function convertToInteractive(key) {\n",
              "          const element = document.querySelector('#df-392b09d0-24d1-4351-b957-63154563d44b');\n",
              "          const dataTable =\n",
              "            await google.colab.kernel.invokeFunction('convertToInteractive',\n",
              "                                                     [key], {});\n",
              "          if (!dataTable) return;\n",
              "\n",
              "          const docLinkHtml = 'Like what you see? Visit the ' +\n",
              "            '<a target=\"_blank\" href=https://colab.research.google.com/notebooks/data_table.ipynb>data table notebook</a>'\n",
              "            + ' to learn more about interactive tables.';\n",
              "          element.innerHTML = '';\n",
              "          dataTable['output_type'] = 'display_data';\n",
              "          await google.colab.output.renderOutput(dataTable, element);\n",
              "          const docLink = document.createElement('div');\n",
              "          docLink.innerHTML = docLinkHtml;\n",
              "          element.appendChild(docLink);\n",
              "        }\n",
              "      </script>\n",
              "    </div>\n",
              "  </div>\n",
              "  "
            ]
          },
          "metadata": {},
          "execution_count": 218
        }
      ]
    },
    {
      "cell_type": "code",
      "source": [
        "sequences = {}\n",
        "for team in Teams:\n",
        "    if(team == base_team): continue\n",
        "    data = grouped_data_2.get_group((base_team,team))\n",
        "    idxs = data.index\n",
        "    s = \"\"\n",
        "    for i in idxs:\n",
        "        if(data.Result[i]==\"won\"):\n",
        "            s+=\"W\"\n",
        "        else:\n",
        "            s+=\"N\"\n",
        "    sequences[team] = s"
      ],
      "metadata": {
        "id": "sqSTHz0LpJmo"
      },
      "execution_count": null,
      "outputs": []
    },
    {
      "cell_type": "code",
      "source": [
        "sequences"
      ],
      "metadata": {
        "id": "fpZvK3n1qp6B",
        "colab": {
          "base_uri": "https://localhost:8080/"
        },
        "outputId": "82f72267-0c97-443f-9a0c-e8724b9d64bb"
      },
      "execution_count": null,
      "outputs": [
        {
          "output_type": "execute_result",
          "data": {
            "text/plain": [
              "{'Afghanistan': 'NW',\n",
              " 'Australia': 'WWWNWNWWWWNNNWNWW',\n",
              " 'Bangladesh': 'WWWW',\n",
              " 'England': 'WNNN',\n",
              " 'New Zealand': 'NWWWWWNWNNNN',\n",
              " 'Pakistan': 'WNWWW',\n",
              " 'South Africa': 'WWWWNWWW',\n",
              " 'Sri Lanka': 'NWWWWWNWWW',\n",
              " 'West Indies': 'WWNWWNNWWWWWNWW'}"
            ]
          },
          "metadata": {},
          "execution_count": 220
        }
      ]
    },
    {
      "cell_type": "code",
      "source": [
        ""
      ],
      "metadata": {
        "id": "j-dqa8JHhxQw"
      },
      "execution_count": null,
      "outputs": []
    },
    {
      "cell_type": "code",
      "source": [
        "state = {}\n",
        "for team in Teams:\n",
        "    if team == base_team: continue\n",
        "    state[team] = extract_state_changes(sequences[team])\n",
        "state"
      ],
      "metadata": {
        "id": "dnubTeXQrof2",
        "colab": {
          "base_uri": "https://localhost:8080/"
        },
        "outputId": "5ee84724-e27d-4506-b10b-2505af07e8f8"
      },
      "execution_count": null,
      "outputs": [
        {
          "output_type": "execute_result",
          "data": {
            "text/plain": [
              "{'Afghanistan': {'NN': 0, 'NW': 1, 'WN': 0, 'WW': 0},\n",
              " 'Australia': {'NN': 2, 'NW': 4, 'WN': 4, 'WW': 6},\n",
              " 'Bangladesh': {'NN': 0, 'NW': 0, 'WN': 0, 'WW': 3},\n",
              " 'England': {'NN': 2, 'NW': 0, 'WN': 1, 'WW': 0},\n",
              " 'New Zealand': {'NN': 3, 'NW': 2, 'WN': 2, 'WW': 4},\n",
              " 'Pakistan': {'NN': 0, 'NW': 1, 'WN': 1, 'WW': 2},\n",
              " 'South Africa': {'NN': 0, 'NW': 1, 'WN': 1, 'WW': 5},\n",
              " 'Sri Lanka': {'NN': 0, 'NW': 2, 'WN': 1, 'WW': 6},\n",
              " 'West Indies': {'NN': 1, 'NW': 3, 'WN': 3, 'WW': 7}}"
            ]
          },
          "metadata": {},
          "execution_count": 221
        }
      ]
    },
    {
      "cell_type": "code",
      "source": [
        "transition_mat = {}\n",
        "for team in Teams:\n",
        "    if team == base_team: continue\n",
        "    transition_mat[team] = extract_state_changes1(sequences[team])\n",
        "transition_mat[\"Afghanistan\"]"
      ],
      "metadata": {
        "id": "Et0cKGpUq5oE",
        "colab": {
          "base_uri": "https://localhost:8080/"
        },
        "outputId": "a9244dff-57c6-48ff-b242-92ded92498db"
      },
      "execution_count": null,
      "outputs": [
        {
          "output_type": "execute_result",
          "data": {
            "text/plain": [
              "array([[0, 0],\n",
              "       [1, 0]])"
            ]
          },
          "metadata": {},
          "execution_count": 222
        }
      ]
    },
    {
      "cell_type": "code",
      "source": [
        "transition_mat_f = {}\n",
        "for team in Teams:\n",
        "    if team == base_team: continue\n",
        "    transition_mat_f[team] = extract_state_changes2(sequences[team])\n",
        "transition_mat_f[\"Bangladesh\"]"
      ],
      "metadata": {
        "id": "2xSJ1JcdrQPL",
        "colab": {
          "base_uri": "https://localhost:8080/"
        },
        "outputId": "c7bf6c47-40e1-4467-8fdc-ade7b0b15f41"
      },
      "execution_count": null,
      "outputs": [
        {
          "output_type": "execute_result",
          "data": {
            "text/plain": [
              "array([[1., 0.],\n",
              "       [0., 0.]])"
            ]
          },
          "metadata": {},
          "execution_count": 223
        }
      ]
    },
    {
      "cell_type": "code",
      "source": [
        "t = []\n",
        "Wining_Prob = []\n",
        "Loosing_Prob = []\n",
        "for team in Teams:\n",
        "    if team == base_team: continue\n",
        "    x = transition_mat_f[team]\n",
        "    t.append(team)\n",
        "    Wining_Prob.append(x[1][0]/(1+x[1][0]-x[0][0]))\n",
        "    Loosing_Prob.append((1-x[0][0])/(1+x[1][0]-x[0][0]))\n",
        "final_result = pd.DataFrame({\n",
        "    \"Against\": t,\n",
        "    \"Wining Probablity\": Wining_Prob,\n",
        "    \"Loosing Probablity\": Loosing_Prob,\n",
        "}).sort_values(\"Wining Probablity\", ascending=False).reset_index(drop = True)"
      ],
      "metadata": {
        "id": "uxhVkHdsr2I1",
        "colab": {
          "base_uri": "https://localhost:8080/"
        },
        "outputId": "e2475afe-efe7-4f1d-823d-c26fa65e3ea3"
      },
      "execution_count": null,
      "outputs": [
        {
          "output_type": "stream",
          "name": "stderr",
          "text": [
            "/usr/local/lib/python3.7/dist-packages/ipykernel_launcher.py:8: RuntimeWarning: invalid value encountered in double_scalars\n",
            "  \n",
            "/usr/local/lib/python3.7/dist-packages/ipykernel_launcher.py:9: RuntimeWarning: invalid value encountered in double_scalars\n",
            "  if __name__ == '__main__':\n"
          ]
        }
      ]
    },
    {
      "cell_type": "code",
      "source": [
        "final_result"
      ],
      "metadata": {
        "id": "XBfbgtoUtLmQ",
        "colab": {
          "base_uri": "https://localhost:8080/",
          "height": 332
        },
        "outputId": "d103ce71-1d36-4869-b5e3-a3f7871650c4"
      },
      "execution_count": null,
      "outputs": [
        {
          "output_type": "execute_result",
          "data": {
            "text/plain": [
              "        Against  Wining Probablity  Loosing Probablity\n",
              "0     Sri Lanka           0.875000            0.125000\n",
              "1  South Africa           0.857143            0.142857\n",
              "2      Pakistan           0.750000            0.250000\n",
              "3   West Indies           0.714286            0.285714\n",
              "4     Australia           0.625000            0.375000\n",
              "5   New Zealand           0.545455            0.454545\n",
              "6   Afghanistan           0.500000            0.500000\n",
              "7       England           0.000000            1.000000\n",
              "8    Bangladesh                NaN                 NaN"
            ],
            "text/html": [
              "\n",
              "  <div id=\"df-e5301d3a-6e02-4046-852b-f78f79494965\">\n",
              "    <div class=\"colab-df-container\">\n",
              "      <div>\n",
              "<style scoped>\n",
              "    .dataframe tbody tr th:only-of-type {\n",
              "        vertical-align: middle;\n",
              "    }\n",
              "\n",
              "    .dataframe tbody tr th {\n",
              "        vertical-align: top;\n",
              "    }\n",
              "\n",
              "    .dataframe thead th {\n",
              "        text-align: right;\n",
              "    }\n",
              "</style>\n",
              "<table border=\"1\" class=\"dataframe\">\n",
              "  <thead>\n",
              "    <tr style=\"text-align: right;\">\n",
              "      <th></th>\n",
              "      <th>Against</th>\n",
              "      <th>Wining Probablity</th>\n",
              "      <th>Loosing Probablity</th>\n",
              "    </tr>\n",
              "  </thead>\n",
              "  <tbody>\n",
              "    <tr>\n",
              "      <th>0</th>\n",
              "      <td>Sri Lanka</td>\n",
              "      <td>0.875000</td>\n",
              "      <td>0.125000</td>\n",
              "    </tr>\n",
              "    <tr>\n",
              "      <th>1</th>\n",
              "      <td>South Africa</td>\n",
              "      <td>0.857143</td>\n",
              "      <td>0.142857</td>\n",
              "    </tr>\n",
              "    <tr>\n",
              "      <th>2</th>\n",
              "      <td>Pakistan</td>\n",
              "      <td>0.750000</td>\n",
              "      <td>0.250000</td>\n",
              "    </tr>\n",
              "    <tr>\n",
              "      <th>3</th>\n",
              "      <td>West Indies</td>\n",
              "      <td>0.714286</td>\n",
              "      <td>0.285714</td>\n",
              "    </tr>\n",
              "    <tr>\n",
              "      <th>4</th>\n",
              "      <td>Australia</td>\n",
              "      <td>0.625000</td>\n",
              "      <td>0.375000</td>\n",
              "    </tr>\n",
              "    <tr>\n",
              "      <th>5</th>\n",
              "      <td>New Zealand</td>\n",
              "      <td>0.545455</td>\n",
              "      <td>0.454545</td>\n",
              "    </tr>\n",
              "    <tr>\n",
              "      <th>6</th>\n",
              "      <td>Afghanistan</td>\n",
              "      <td>0.500000</td>\n",
              "      <td>0.500000</td>\n",
              "    </tr>\n",
              "    <tr>\n",
              "      <th>7</th>\n",
              "      <td>England</td>\n",
              "      <td>0.000000</td>\n",
              "      <td>1.000000</td>\n",
              "    </tr>\n",
              "    <tr>\n",
              "      <th>8</th>\n",
              "      <td>Bangladesh</td>\n",
              "      <td>NaN</td>\n",
              "      <td>NaN</td>\n",
              "    </tr>\n",
              "  </tbody>\n",
              "</table>\n",
              "</div>\n",
              "      <button class=\"colab-df-convert\" onclick=\"convertToInteractive('df-e5301d3a-6e02-4046-852b-f78f79494965')\"\n",
              "              title=\"Convert this dataframe to an interactive table.\"\n",
              "              style=\"display:none;\">\n",
              "        \n",
              "  <svg xmlns=\"http://www.w3.org/2000/svg\" height=\"24px\"viewBox=\"0 0 24 24\"\n",
              "       width=\"24px\">\n",
              "    <path d=\"M0 0h24v24H0V0z\" fill=\"none\"/>\n",
              "    <path d=\"M18.56 5.44l.94 2.06.94-2.06 2.06-.94-2.06-.94-.94-2.06-.94 2.06-2.06.94zm-11 1L8.5 8.5l.94-2.06 2.06-.94-2.06-.94L8.5 2.5l-.94 2.06-2.06.94zm10 10l.94 2.06.94-2.06 2.06-.94-2.06-.94-.94-2.06-.94 2.06-2.06.94z\"/><path d=\"M17.41 7.96l-1.37-1.37c-.4-.4-.92-.59-1.43-.59-.52 0-1.04.2-1.43.59L10.3 9.45l-7.72 7.72c-.78.78-.78 2.05 0 2.83L4 21.41c.39.39.9.59 1.41.59.51 0 1.02-.2 1.41-.59l7.78-7.78 2.81-2.81c.8-.78.8-2.07 0-2.86zM5.41 20L4 18.59l7.72-7.72 1.47 1.35L5.41 20z\"/>\n",
              "  </svg>\n",
              "      </button>\n",
              "      \n",
              "  <style>\n",
              "    .colab-df-container {\n",
              "      display:flex;\n",
              "      flex-wrap:wrap;\n",
              "      gap: 12px;\n",
              "    }\n",
              "\n",
              "    .colab-df-convert {\n",
              "      background-color: #E8F0FE;\n",
              "      border: none;\n",
              "      border-radius: 50%;\n",
              "      cursor: pointer;\n",
              "      display: none;\n",
              "      fill: #1967D2;\n",
              "      height: 32px;\n",
              "      padding: 0 0 0 0;\n",
              "      width: 32px;\n",
              "    }\n",
              "\n",
              "    .colab-df-convert:hover {\n",
              "      background-color: #E2EBFA;\n",
              "      box-shadow: 0px 1px 2px rgba(60, 64, 67, 0.3), 0px 1px 3px 1px rgba(60, 64, 67, 0.15);\n",
              "      fill: #174EA6;\n",
              "    }\n",
              "\n",
              "    [theme=dark] .colab-df-convert {\n",
              "      background-color: #3B4455;\n",
              "      fill: #D2E3FC;\n",
              "    }\n",
              "\n",
              "    [theme=dark] .colab-df-convert:hover {\n",
              "      background-color: #434B5C;\n",
              "      box-shadow: 0px 1px 3px 1px rgba(0, 0, 0, 0.15);\n",
              "      filter: drop-shadow(0px 1px 2px rgba(0, 0, 0, 0.3));\n",
              "      fill: #FFFFFF;\n",
              "    }\n",
              "  </style>\n",
              "\n",
              "      <script>\n",
              "        const buttonEl =\n",
              "          document.querySelector('#df-e5301d3a-6e02-4046-852b-f78f79494965 button.colab-df-convert');\n",
              "        buttonEl.style.display =\n",
              "          google.colab.kernel.accessAllowed ? 'block' : 'none';\n",
              "\n",
              "        async function convertToInteractive(key) {\n",
              "          const element = document.querySelector('#df-e5301d3a-6e02-4046-852b-f78f79494965');\n",
              "          const dataTable =\n",
              "            await google.colab.kernel.invokeFunction('convertToInteractive',\n",
              "                                                     [key], {});\n",
              "          if (!dataTable) return;\n",
              "\n",
              "          const docLinkHtml = 'Like what you see? Visit the ' +\n",
              "            '<a target=\"_blank\" href=https://colab.research.google.com/notebooks/data_table.ipynb>data table notebook</a>'\n",
              "            + ' to learn more about interactive tables.';\n",
              "          element.innerHTML = '';\n",
              "          dataTable['output_type'] = 'display_data';\n",
              "          await google.colab.output.renderOutput(dataTable, element);\n",
              "          const docLink = document.createElement('div');\n",
              "          docLink.innerHTML = docLinkHtml;\n",
              "          element.appendChild(docLink);\n",
              "        }\n",
              "      </script>\n",
              "    </div>\n",
              "  </div>\n",
              "  "
            ]
          },
          "metadata": {},
          "execution_count": 225
        }
      ]
    }
  ]
}